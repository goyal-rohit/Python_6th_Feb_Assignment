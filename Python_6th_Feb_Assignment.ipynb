{
 "cells": [
  {
   "cell_type": "markdown",
   "id": "3d9a5efd-aa23-4d0f-a676-792593019a0f",
   "metadata": {},
   "source": [
    "Q1. Create a function which will take a list as an argument and return the product of all the numbers after creating a flat list.\n",
    "Use the below-given list as an argument for your function.\n",
    "list1 = [1,2,3,4, [44,55,66, True], False, (34,56,78,89,34), {1,2,3,3,2,1}, {1:34, \"key2\": [55, 67, 78, 89], 4: (45,22, 61, 34)}, [56, 'data science'], 'Machine Learning']\n",
    "Note: you must extract numeric keys and values of the dictionary also."
   ]
  },
  {
   "cell_type": "code",
   "execution_count": 21,
   "id": "e6f2ceda-c2af-4a4e-8c21-fb61f7650a3d",
   "metadata": {},
   "outputs": [],
   "source": [
    "from functools import reduce\n",
    "def list_product(l):\n",
    "    list2=[]\n",
    "    for i in l:\n",
    "        if type(i) ==int:\n",
    "            list2.append(i)\n",
    "        elif type(i) ==list:\n",
    "            for j in i:\n",
    "                if type(j) ==int:\n",
    "                    list2.append(j)\n",
    "        elif type(i) ==tuple:\n",
    "            for j in i:\n",
    "                if type(j) ==int:\n",
    "                    list2.append(j)\n",
    "        elif type(i) ==set:\n",
    "            for j in i:\n",
    "                if type(j) ==int:\n",
    "                    list2.append(j)\n",
    "        elif type(i) ==dict:\n",
    "            new_key = list(i.keys())\n",
    "            new_val = list(i.values())\n",
    "            for j in new_key:\n",
    "                if type(j) ==int:\n",
    "                    list2.append(j)\n",
    "            for j in new_val:\n",
    "                if type(j) ==int:\n",
    "                    list2.append(j)\n",
    "                elif type(j) ==list:\n",
    "                    for k in j:\n",
    "                        if type(k) ==int:\n",
    "                            list2.append(k)\n",
    "                elif type(j) ==tuple:\n",
    "                    for k in j:\n",
    "                        if type(k) ==int:\n",
    "                            list2.append(k)\n",
    "        else:\n",
    "            continue\n",
    "    #print(list2)\n",
    "    return reduce(lambda x,y:x*y,list2)"
   ]
  },
  {
   "cell_type": "code",
   "execution_count": 1,
   "id": "c1e8d14b-8e00-4b08-9d99-8cde7cdae7a4",
   "metadata": {},
   "outputs": [],
   "source": [
    "list1 = [1,2,3,4, [44,55,66, True], False, (34,56,78,89,34), {1,2,3,3,2,1}, {1:34, \"key2\": [55, 67, 78, 89], 4: (45,22, 61, 34)}, [56, 'data science'], 'Machine Learning']"
   ]
  },
  {
   "cell_type": "code",
   "execution_count": 22,
   "id": "c25945a4-c76c-42e3-bfe3-d9d950758cd3",
   "metadata": {},
   "outputs": [
    {
     "data": {
      "text/plain": [
       "4134711838987085478833841242112000"
      ]
     },
     "execution_count": 22,
     "metadata": {},
     "output_type": "execute_result"
    }
   ],
   "source": [
    "list_product(list1)"
   ]
  },
  {
   "cell_type": "markdown",
   "id": "b324be69-689f-4cd4-84c5-ad2126440f08",
   "metadata": {},
   "source": [
    "Q2. Write a python program for encrypting a message sent to you by your friend. The logic of encryption should be such that, for a the output should be z. For b, the output should be y. For c, the output should be x respectively. Also, the whitespace should be replaced with a dollar sign. Keep the punctuation marks unchanged.\n",
    "Input Sentence: I want to become a Data Scientist.\n",
    "Encrypt the above input sentence using the program you just created.\n",
    "Note: Convert the given input sentence into lowercase before encrypting. The final output should be lowercase."
   ]
  },
  {
   "cell_type": "code",
   "execution_count": 30,
   "id": "171a9830-7c7b-4c67-bc2e-9f2bde81f2ba",
   "metadata": {},
   "outputs": [],
   "source": [
    "def enc(str1):\n",
    "    str1 = str1.lower()\n",
    "    enc_str = \"\"\n",
    "    for char in str1:\n",
    "        if char.isalpha():\n",
    "            enc_char = chr(ord('a')+ord('z')-ord(char))\n",
    "            enc_str +=enc_char\n",
    "        elif char.isspace():\n",
    "            enc_str += \"$\"\n",
    "        else:\n",
    "            enc_str += char\n",
    "    return enc_str\n",
    "    "
   ]
  },
  {
   "cell_type": "code",
   "execution_count": 39,
   "id": "d37374e7-dfd6-4fb9-841f-9aacdc8ffb56",
   "metadata": {},
   "outputs": [],
   "source": [
    "s1 = \"I want to become a Data Scientist.\""
   ]
  },
  {
   "cell_type": "code",
   "execution_count": 40,
   "id": "f1fc2954-14bf-4464-992c-f708a52ecd22",
   "metadata": {},
   "outputs": [
    {
     "data": {
      "text/plain": [
       "'r$dzmg$gl$yvxlnv$z$wzgz$hxrvmgrhg.'"
      ]
     },
     "execution_count": 40,
     "metadata": {},
     "output_type": "execute_result"
    }
   ],
   "source": [
    "enc(s1)"
   ]
  },
  {
   "cell_type": "code",
   "execution_count": null,
   "id": "b0da9921-2834-4fb4-803b-c2f9af191bb5",
   "metadata": {},
   "outputs": [],
   "source": []
  }
 ],
 "metadata": {
  "kernelspec": {
   "display_name": "Python 3 (ipykernel)",
   "language": "python",
   "name": "python3"
  },
  "language_info": {
   "codemirror_mode": {
    "name": "ipython",
    "version": 3
   },
   "file_extension": ".py",
   "mimetype": "text/x-python",
   "name": "python",
   "nbconvert_exporter": "python",
   "pygments_lexer": "ipython3",
   "version": "3.9.13"
  }
 },
 "nbformat": 4,
 "nbformat_minor": 5
}
